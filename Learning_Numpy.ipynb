{
  "nbformat": 4,
  "nbformat_minor": 0,
  "metadata": {
    "colab": {
      "name": "Learning Numpy",
      "provenance": [],
      "collapsed_sections": [],
      "authorship_tag": "ABX9TyOZn3Q8pVdllbk8GCUsHAzM",
      "include_colab_link": true
    },
    "kernelspec": {
      "name": "python3",
      "display_name": "Python 3"
    },
    "language_info": {
      "name": "python"
    }
  },
  "cells": [
    {
      "cell_type": "markdown",
      "metadata": {
        "id": "view-in-github",
        "colab_type": "text"
      },
      "source": [
        "<a href=\"https://colab.research.google.com/github/barsha-1o/NUMPY/blob/main/Learning_Numpy.ipynb\" target=\"_parent\"><img src=\"https://colab.research.google.com/assets/colab-badge.svg\" alt=\"Open In Colab\"/></a>"
      ]
    },
    {
      "cell_type": "code",
      "source": [
        "import numpy as np  #np=numpy\n"
      ],
      "metadata": {
        "id": "_s3VS96LuRsc"
      },
      "execution_count": null,
      "outputs": []
    },
    {
      "cell_type": "code",
      "source": [
        "l1 = [1,2,3]\n",
        "ar1 = np.array(l1)\n",
        "print(l1)\n",
        "print(ar1)"
      ],
      "metadata": {
        "colab": {
          "base_uri": "https://localhost:8080/"
        },
        "id": "GSgnb3kGw88D",
        "outputId": "9f0d86cc-c89e-4bea-dc4f-c8530f11f9c7"
      },
      "execution_count": null,
      "outputs": [
        {
          "output_type": "stream",
          "name": "stdout",
          "text": [
            "[1, 2, 3]\n",
            "[1 2 3]\n"
          ]
        }
      ]
    },
    {
      "cell_type": "markdown",
      "source": [
        "**0-D , 1-D, 2-D AND SO ON** \n"
      ],
      "metadata": {
        "id": "OM98hOAx7Gt4"
      }
    },
    {
      "cell_type": "code",
      "source": [
        "zeroD =np.array(3)\n",
        "oneD =np.array([1,2,3])\n",
        "twoD =np.array([[1,2],[2,3]])\n",
        "\n",
        "print(zeroD)\n",
        "print(oneD)\n",
        "print(twoD)"
      ],
      "metadata": {
        "colab": {
          "base_uri": "https://localhost:8080/"
        },
        "id": "JFyl2qtKzM36",
        "outputId": "5b850c0c-689b-413f-ca72-82cf976be255"
      },
      "execution_count": null,
      "outputs": [
        {
          "output_type": "stream",
          "name": "stdout",
          "text": [
            "3\n",
            "[1 2 3]\n",
            "[[1 2]\n",
            " [2 3]]\n"
          ]
        }
      ]
    },
    {
      "cell_type": "markdown",
      "source": [
        "**ARRAY INDEXING**"
      ],
      "metadata": {
        "id": "BwAisESy7PXq"
      }
    },
    {
      "cell_type": "code",
      "source": [
        "twoD=np.array([[1,2],[2,4],[4,5]])\n",
        "print(twoD[0])"
      ],
      "metadata": {
        "colab": {
          "base_uri": "https://localhost:8080/"
        },
        "id": "Ep3iA2qAziU5",
        "outputId": "38f047ae-5701-4064-d6b5-9ff28791f34c"
      },
      "execution_count": null,
      "outputs": [
        {
          "output_type": "stream",
          "name": "stdout",
          "text": [
            "[1 2]\n"
          ]
        }
      ]
    },
    {
      "cell_type": "code",
      "source": [
        "print(twoD[0][1])"
      ],
      "metadata": {
        "colab": {
          "base_uri": "https://localhost:8080/"
        },
        "id": "0O-Pm9uM05cX",
        "outputId": "164a97ee-0e35-48dc-cec6-092161c73669"
      },
      "execution_count": null,
      "outputs": [
        {
          "output_type": "stream",
          "name": "stdout",
          "text": [
            "2\n"
          ]
        }
      ]
    },
    {
      "cell_type": "markdown",
      "source": [
        "**ARRAY SLICING**\n"
      ],
      "metadata": {
        "id": "LQn3B9fK7THK"
      }
    },
    {
      "cell_type": "code",
      "source": [
        "arr=np.array([[1,2,3,4,5],[6,7,8,9]])\n",
        "print(arr[1][0:2])"
      ],
      "metadata": {
        "colab": {
          "base_uri": "https://localhost:8080/"
        },
        "id": "UmH-B0ZT1CQc",
        "outputId": "d6af3986-0a83-4bab-ee88-a39a2eaf2e64"
      },
      "execution_count": null,
      "outputs": [
        {
          "output_type": "stream",
          "name": "stdout",
          "text": [
            "[6, 7]\n"
          ]
        },
        {
          "output_type": "stream",
          "name": "stderr",
          "text": [
            "/usr/local/lib/python3.7/dist-packages/ipykernel_launcher.py:1: VisibleDeprecationWarning: Creating an ndarray from ragged nested sequences (which is a list-or-tuple of lists-or-tuples-or ndarrays with different lengths or shapes) is deprecated. If you meant to do this, you must specify 'dtype=object' when creating the ndarray\n",
            "  \"\"\"Entry point for launching an IPython kernel.\n"
          ]
        }
      ]
    },
    {
      "cell_type": "markdown",
      "source": [
        "**ARRAY COPY**\n"
      ],
      "metadata": {
        "id": "FIFLhceX7ZT4"
      }
    },
    {
      "cell_type": "code",
      "source": [
        "import numpy as np\n",
        "\n",
        "arr=np.array([1,2,3,4,5])#original data\n",
        "x=arr.copy()             #copy of original data\n",
        "arr[0]=42\n",
        "\n",
        "print(arr)\n",
        "print(x)"
      ],
      "metadata": {
        "colab": {
          "base_uri": "https://localhost:8080/"
        },
        "id": "_IDgRcHY4AoX",
        "outputId": "18b55c24-1bd1-4aa3-ca16-d90eb5b4cc4b"
      },
      "execution_count": null,
      "outputs": [
        {
          "output_type": "stream",
          "name": "stdout",
          "text": [
            "[42  2  3  4  5]\n",
            "[1 2 3 4 5]\n"
          ]
        }
      ]
    },
    {
      "cell_type": "markdown",
      "source": [
        "**ARRAY VIEW**"
      ],
      "metadata": {
        "id": "97pkU4a77cYS"
      }
    },
    {
      "cell_type": "code",
      "source": [
        "import numpy as np\n",
        "\n",
        "arr=np.array([1,2,3,4,5])#original data\n",
        "x=arr.view()             \n",
        "arr[0]=42\n",
        "\n",
        "print(arr)\n",
        "print(x)"
      ],
      "metadata": {
        "colab": {
          "base_uri": "https://localhost:8080/"
        },
        "id": "Lkl-XWHE4xm_",
        "outputId": "e6b6b3e1-f072-4494-b06b-ed7f023d97e3"
      },
      "execution_count": null,
      "outputs": [
        {
          "output_type": "stream",
          "name": "stdout",
          "text": [
            "[42  2  3  4  5]\n",
            "[42  2  3  4  5]\n"
          ]
        }
      ]
    },
    {
      "cell_type": "markdown",
      "source": [
        "**ARRAY SHAPE**\n"
      ],
      "metadata": {
        "id": "SjZvMhdK7fFU"
      }
    },
    {
      "cell_type": "code",
      "source": [
        "array1 = np.array([[1,2,3],[2,3,4]])\n",
        "print(array1)\n",
        "print(array1.shape)  #no.of rows ,no.of columns"
      ],
      "metadata": {
        "colab": {
          "base_uri": "https://localhost:8080/"
        },
        "id": "ypxetXJq5FiR",
        "outputId": "a2c7a6a3-f0bf-4c16-a778-974c772ed1ab"
      },
      "execution_count": null,
      "outputs": [
        {
          "output_type": "stream",
          "name": "stdout",
          "text": [
            "[[1 2 3]\n",
            " [2 3 4]]\n",
            "(2, 3)\n"
          ]
        }
      ]
    },
    {
      "cell_type": "code",
      "source": [
        "array1 = np.array([[1,2,3],[2,3,4]])\n",
        "print(array1)\n",
        "print(array1.ndim)  #tells which D array it is"
      ],
      "metadata": {
        "colab": {
          "base_uri": "https://localhost:8080/"
        },
        "id": "verijuWe5S4q",
        "outputId": "97905355-3e7a-4b65-e89a-7fe47629149e"
      },
      "execution_count": null,
      "outputs": [
        {
          "output_type": "stream",
          "name": "stdout",
          "text": [
            "[[1 2 3]\n",
            " [2 3 4]]\n",
            "2\n"
          ]
        }
      ]
    },
    {
      "cell_type": "markdown",
      "source": [
        "**ARRAY RESHAPING**\n"
      ],
      "metadata": {
        "id": "_q1R_ssy7hfA"
      }
    },
    {
      "cell_type": "code",
      "source": [
        "array1=np.array([1,2,3,4,5,6,7,8])\n",
        "a=array1.reshape(2,4)\n",
        "print(a)"
      ],
      "metadata": {
        "colab": {
          "base_uri": "https://localhost:8080/"
        },
        "id": "L7-EFeXl6QdE",
        "outputId": "69e9bfad-f844-48b9-e295-0131fab290a2"
      },
      "execution_count": null,
      "outputs": [
        {
          "output_type": "stream",
          "name": "stdout",
          "text": [
            "[[1 2 3 4]\n",
            " [5 6 7 8]]\n"
          ]
        }
      ]
    },
    {
      "cell_type": "markdown",
      "source": [
        "**ARRAY JOINING**"
      ],
      "metadata": {
        "id": "zX4zYCP179EJ"
      }
    },
    {
      "cell_type": "code",
      "source": [
        "import numpy as np\n",
        "\n",
        "arr1=np.array([1,2,3])\n",
        "arr2=np.array([3,4,5])\n",
        "arr=np.concatenate((arr1,arr2)) #JOINS MATRIX\n",
        "print(arr1)\n",
        "print(arr2)"
      ],
      "metadata": {
        "colab": {
          "base_uri": "https://localhost:8080/"
        },
        "id": "CAT4yP7s6w4M",
        "outputId": "e5779456-6a42-49a4-cb71-ee0b5477a40d"
      },
      "execution_count": null,
      "outputs": [
        {
          "output_type": "stream",
          "name": "stdout",
          "text": [
            "[1 2 3]\n",
            "[3 4 5]\n"
          ]
        }
      ]
    },
    {
      "cell_type": "code",
      "source": [
        "print(arr1+arr2) #GIVES SUM OF MATRIX"
      ],
      "metadata": {
        "colab": {
          "base_uri": "https://localhost:8080/"
        },
        "id": "9RqVvTmV8P9I",
        "outputId": "ad9d40d6-8cdf-4b4a-ab31-a3f0cbcdde15"
      },
      "execution_count": null,
      "outputs": [
        {
          "output_type": "stream",
          "name": "stdout",
          "text": [
            "[4 6 8]\n"
          ]
        }
      ]
    },
    {
      "cell_type": "markdown",
      "source": [
        "**ARRAY SPLIT**"
      ],
      "metadata": {
        "id": "Cnx8gdTxIa4i"
      }
    },
    {
      "cell_type": "code",
      "source": [
        "array1=np.array([1,2,3,4,5,6,7,8])\n",
        "\n",
        "newarr=np.array_split(arr,2)\n",
        "print(newarr)"
      ],
      "metadata": {
        "colab": {
          "base_uri": "https://localhost:8080/"
        },
        "id": "P103q1Q08UDF",
        "outputId": "77f4e062-0d9e-47b0-abe8-de457b0dc580"
      },
      "execution_count": null,
      "outputs": [
        {
          "output_type": "stream",
          "name": "stdout",
          "text": [
            "[array([1, 2, 3]), array([3, 4, 5])]\n"
          ]
        }
      ]
    },
    {
      "cell_type": "markdown",
      "source": [
        "**ARRAY FILTERING**"
      ],
      "metadata": {
        "id": "iLuqInBh9Vod"
      }
    },
    {
      "cell_type": "code",
      "source": [
        "arr=np.array([41,42,43,44])\n",
        "x=arr[[True,False,True,False]]\n",
        "print(x)"
      ],
      "metadata": {
        "colab": {
          "base_uri": "https://localhost:8080/"
        },
        "id": "jjglr4IG86z0",
        "outputId": "b0565863-2da4-4147-efa7-905dfd0e4613"
      },
      "execution_count": null,
      "outputs": [
        {
          "output_type": "stream",
          "name": "stdout",
          "text": [
            "[41 43]\n"
          ]
        }
      ]
    }
  ]
}